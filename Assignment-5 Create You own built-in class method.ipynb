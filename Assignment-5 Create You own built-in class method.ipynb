{
 "cells": [
  {
   "cell_type": "markdown",
   "id": "fe70429c",
   "metadata": {},
   "source": [
    "# `Write a Python class to implement pow(x, n)`\n"
   ]
  },
  {
   "cell_type": "markdown",
   "id": "f8f938ae",
   "metadata": {},
   "source": [
    "#### Sample Input:\n",
    "\n",
    "x: 10\n",
    "\n",
    "n: 2"
   ]
  },
  {
   "cell_type": "markdown",
   "id": "bacc283e",
   "metadata": {},
   "source": [
    "#### Sample Output:\n",
    "\n",
    "100"
   ]
  },
  {
   "cell_type": "markdown",
   "id": "4135ec14",
   "metadata": {},
   "source": [
    "--------"
   ]
  },
  {
   "cell_type": "code",
   "execution_count": 4,
   "id": "984fb65a",
   "metadata": {},
   "outputs": [
    {
     "name": "stdout",
     "output_type": "stream",
     "text": [
      "100\n"
     ]
    }
   ],
   "source": [
    "class py_solution:\n",
    "   def pow(self, x, n):\n",
    "        if x==0 or x==1 or n==1:\n",
    "            return x \n",
    "\n",
    "        if x==-1:\n",
    "            if n%2 ==0:\n",
    "                return 1\n",
    "            else:\n",
    "                return -1\n",
    "        if n==0:\n",
    "            return 1\n",
    "        if n<0:\n",
    "            return 1/self.pow(x,-n)\n",
    "        val = self.pow(x,n//2)\n",
    "        if n%2 ==0:\n",
    "            return val*val\n",
    "        return val*val*x\n",
    "\n",
    "print(py_solution().pow(10, 2))"
   ]
  },
  {
   "cell_type": "code",
   "execution_count": 5,
   "id": "3e1f1ec7",
   "metadata": {},
   "outputs": [
    {
     "name": "stdout",
     "output_type": "stream",
     "text": [
      "1000\n"
     ]
    }
   ],
   "source": [
    "print(py_solution().pow(10, 3))"
   ]
  },
  {
   "cell_type": "code",
   "execution_count": 6,
   "id": "933b740e",
   "metadata": {},
   "outputs": [
    {
     "name": "stdout",
     "output_type": "stream",
     "text": [
      "2500\n"
     ]
    }
   ],
   "source": [
    "print(py_solution().pow(50, 2))"
   ]
  },
  {
   "cell_type": "code",
   "execution_count": 7,
   "id": "183c8ffc",
   "metadata": {},
   "outputs": [
    {
     "name": "stdout",
     "output_type": "stream",
     "text": [
      "243\n"
     ]
    }
   ],
   "source": [
    "print(py_solution().pow(3, 5))"
   ]
  }
 ],
 "metadata": {
  "kernelspec": {
   "display_name": "Python 3 (ipykernel)",
   "language": "python",
   "name": "python3"
  },
  "language_info": {
   "codemirror_mode": {
    "name": "ipython",
    "version": 3
   },
   "file_extension": ".py",
   "mimetype": "text/x-python",
   "name": "python",
   "nbconvert_exporter": "python",
   "pygments_lexer": "ipython3",
   "version": "3.9.0b2"
  }
 },
 "nbformat": 4,
 "nbformat_minor": 5
}
